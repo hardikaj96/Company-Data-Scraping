{
 "cells": [
  {
   "cell_type": "code",
   "execution_count": 1,
   "metadata": {},
   "outputs": [],
   "source": [
    "from __future__ import unicode_literals\n",
    "from bs4 import BeautifulSoup\n",
    "from contextlib import closing\n",
    "from requests import get\n",
    "from requests.exceptions import RequestException\n",
    "import csv\n",
    "import html5lib\n",
    "import logging\n",
    "import os\n",
    "import pandas as pd\n",
    "import re\n",
    "import sys\n",
    "import time"
   ]
  },
  {
   "cell_type": "code",
   "execution_count": 19,
   "metadata": {},
   "outputs": [],
   "source": [
    "def get_html(url):\n",
    "    \"\"\"This function makes a GET Request to the url specified.\n",
    "    This gets the raw HTML content if there is a good response.\n",
    "    \"\"\"\n",
    "    resp = get(url, stream=True)\n",
    "    if resp.status_code == 200:\n",
    "        return resp.content\n",
    "    else:\n",
    "        return None"
   ]
  },
  {
   "cell_type": "code",
   "execution_count": 20,
   "metadata": {},
   "outputs": [],
   "source": [
    "def get_data(parsed_data_html):\n",
    "    \n",
    "    # Convert html data into beautifulSoup format using html parser\n",
    "    parsed_data_bs = BeautifulSoup(parsed_data_html, \"html.parser\")\n",
    "\n",
    "    # Search for table with id = 'myTable' and extract each row of data\n",
    "    parsed_data_table = parsed_data_bs.find('table', {'id': 'myTable'})\n",
    "    parsed_data_table = parsed_data_table.find('tbody')\n",
    "    records = parsed_data_table.findAll('tr')\n",
    "    extracted_record = []\n",
    "    for record in records:\n",
    "        elements = record.findAll('td')\n",
    "        row_data = []\n",
    "        for element in elements:\n",
    "            row_data.append(element.text)\n",
    "        extracted_record.append(row_data)\n",
    "    return extracted_record"
   ]
  },
  {
   "cell_type": "code",
   "execution_count": 21,
   "metadata": {},
   "outputs": [],
   "source": [
    "posts = [\n",
    "    'Software Engineer',\n",
    "    'Software Developer',\n",
    "    'Python Developer',\n",
    "    'Data Scientist',\n",
    "    'Machine Learning Engineer'\n",
    "]"
   ]
  },
  {
   "cell_type": "code",
   "execution_count": 22,
   "metadata": {},
   "outputs": [],
   "source": [
    "locations = [\n",
    "    'New York',\n",
    "    'Edison',\n",
    "    'Jersey City',\n",
    "    'Chicago',\n",
    "    'Brooklyn'\n",
    "]"
   ]
  },
  {
   "cell_type": "code",
   "execution_count": 23,
   "metadata": {},
   "outputs": [],
   "source": [
    "def get_records(posts, locations):\n",
    "    data = []\n",
    "    for post in posts:\n",
    "        for location in locations:\n",
    "            url = 'https://h1bdata.info/index.php?em=&job='\n",
    "            url += post\n",
    "            url += '&city=' + location\n",
    "            url += '&year=All+Years'\n",
    "            parsed_data_html = get_html(url)\n",
    "            records = get_data(parsed_data_html)\n",
    "            data.extend(records)\n",
    "    return data"
   ]
  },
  {
   "cell_type": "code",
   "execution_count": 24,
   "metadata": {},
   "outputs": [],
   "source": [
    "data = get_records(posts, locations)"
   ]
  },
  {
   "cell_type": "code",
   "execution_count": 26,
   "metadata": {},
   "outputs": [
    {
     "data": {
      "text/plain": [
       "16996"
      ]
     },
     "execution_count": 26,
     "metadata": {},
     "output_type": "execute_result"
    }
   ],
   "source": [
    "len(data)"
   ]
  },
  {
   "cell_type": "code",
   "execution_count": 33,
   "metadata": {},
   "outputs": [],
   "source": [
    "h1b_data = pd.DataFrame(data)"
   ]
  },
  {
   "cell_type": "code",
   "execution_count": 34,
   "metadata": {},
   "outputs": [],
   "source": [
    "h1b_data.columns = ['Employer', 'Job Title', 'Base Salary', 'Location', 'Submit Date', 'Start Date', 'Case Status']"
   ]
  },
  {
   "cell_type": "code",
   "execution_count": 36,
   "metadata": {},
   "outputs": [
    {
     "data": {
      "text/html": [
       "<div>\n",
       "<style scoped>\n",
       "    .dataframe tbody tr th:only-of-type {\n",
       "        vertical-align: middle;\n",
       "    }\n",
       "\n",
       "    .dataframe tbody tr th {\n",
       "        vertical-align: top;\n",
       "    }\n",
       "\n",
       "    .dataframe thead th {\n",
       "        text-align: right;\n",
       "    }\n",
       "</style>\n",
       "<table border=\"1\" class=\"dataframe\">\n",
       "  <thead>\n",
       "    <tr style=\"text-align: right;\">\n",
       "      <th></th>\n",
       "      <th>Employer</th>\n",
       "      <th>Job Title</th>\n",
       "      <th>Base Salary</th>\n",
       "      <th>Location</th>\n",
       "      <th>Submit Date</th>\n",
       "      <th>Start Date</th>\n",
       "      <th>Case Status</th>\n",
       "    </tr>\n",
       "  </thead>\n",
       "  <tbody>\n",
       "    <tr>\n",
       "      <th>12086</th>\n",
       "      <td>DIASPARK INC</td>\n",
       "      <td>SOFTWARE DEVELOPER</td>\n",
       "      <td>65,000</td>\n",
       "      <td>EDISON, NJ</td>\n",
       "      <td>03/15/2016</td>\n",
       "      <td>09/14/2016</td>\n",
       "      <td>CERTIFIED</td>\n",
       "    </tr>\n",
       "    <tr>\n",
       "      <th>626</th>\n",
       "      <td>MASTERCARD INTERNATIONAL INCORPORATED</td>\n",
       "      <td>SOFTWARE ENGINEER</td>\n",
       "      <td>73,445</td>\n",
       "      <td>NEW YORK, NY</td>\n",
       "      <td>02/20/2015</td>\n",
       "      <td>08/17/2015</td>\n",
       "      <td>CERTIFIED</td>\n",
       "    </tr>\n",
       "    <tr>\n",
       "      <th>9230</th>\n",
       "      <td>SYNERGY TRADING INC</td>\n",
       "      <td>SOFTWARE DEVELOPER</td>\n",
       "      <td>70,000</td>\n",
       "      <td>NEW YORK, NY</td>\n",
       "      <td>03/09/2016</td>\n",
       "      <td>08/01/2016</td>\n",
       "      <td>CERTIFIED</td>\n",
       "    </tr>\n",
       "    <tr>\n",
       "      <th>4719</th>\n",
       "      <td>FACEBOOK INC</td>\n",
       "      <td>SOFTWARE ENGINEER</td>\n",
       "      <td>148,960</td>\n",
       "      <td>NEW YORK, NY</td>\n",
       "      <td>03/05/2019</td>\n",
       "      <td>03/18/2019</td>\n",
       "      <td>CERTIFIED</td>\n",
       "    </tr>\n",
       "    <tr>\n",
       "      <th>14787</th>\n",
       "      <td>VINTECH SOLUTIONS INC</td>\n",
       "      <td>SOFTWARE DEVELOPER</td>\n",
       "      <td>80,912</td>\n",
       "      <td>CHICAGO, IL</td>\n",
       "      <td>03/08/2019</td>\n",
       "      <td>09/07/2019</td>\n",
       "      <td>CERTIFIED</td>\n",
       "    </tr>\n",
       "    <tr>\n",
       "      <th>11089</th>\n",
       "      <td>MANA TECH LLC</td>\n",
       "      <td>SOFTWARE DEVELOPER</td>\n",
       "      <td>100,000</td>\n",
       "      <td>NEW YORK, NY</td>\n",
       "      <td>03/13/2018</td>\n",
       "      <td>08/31/2018</td>\n",
       "      <td>CERTIFIED</td>\n",
       "    </tr>\n",
       "    <tr>\n",
       "      <th>4560</th>\n",
       "      <td>CITADEL AMERICAS LLC</td>\n",
       "      <td>SOFTWARE ENGINEER</td>\n",
       "      <td>145,000</td>\n",
       "      <td>NEW YORK, NY</td>\n",
       "      <td>08/22/2019</td>\n",
       "      <td>09/02/2019</td>\n",
       "      <td>CERTIFIED</td>\n",
       "    </tr>\n",
       "    <tr>\n",
       "      <th>10558</th>\n",
       "      <td>VYZER SOLUTIONS INC</td>\n",
       "      <td>SOFTWARE DEVELOPER</td>\n",
       "      <td>94,000</td>\n",
       "      <td>NEW YORK, NY</td>\n",
       "      <td>02/22/2018</td>\n",
       "      <td>08/20/2018</td>\n",
       "      <td>CERTIFIED</td>\n",
       "    </tr>\n",
       "    <tr>\n",
       "      <th>9632</th>\n",
       "      <td>COMPUNNEL SOFTWARE GROUP INC</td>\n",
       "      <td>SOFTWARE DEVELOPER</td>\n",
       "      <td>72,015</td>\n",
       "      <td>NEW YORK, NY</td>\n",
       "      <td>09/04/2015</td>\n",
       "      <td>09/14/2015</td>\n",
       "      <td>CERTIFIED</td>\n",
       "    </tr>\n",
       "    <tr>\n",
       "      <th>282</th>\n",
       "      <td>CULINARY AGENTS INC</td>\n",
       "      <td>SOFTWARE ENGINEER</td>\n",
       "      <td>70,221</td>\n",
       "      <td>NEW YORK, NY</td>\n",
       "      <td>03/11/2017</td>\n",
       "      <td>08/01/2017</td>\n",
       "      <td>CERTIFIED</td>\n",
       "    </tr>\n",
       "  </tbody>\n",
       "</table>\n",
       "</div>"
      ],
      "text/plain": [
       "                                    Employer           Job Title Base Salary  \\\n",
       "12086                           DIASPARK INC  SOFTWARE DEVELOPER      65,000   \n",
       "626    MASTERCARD INTERNATIONAL INCORPORATED   SOFTWARE ENGINEER      73,445   \n",
       "9230                     SYNERGY TRADING INC  SOFTWARE DEVELOPER      70,000   \n",
       "4719                            FACEBOOK INC   SOFTWARE ENGINEER     148,960   \n",
       "14787                  VINTECH SOLUTIONS INC  SOFTWARE DEVELOPER      80,912   \n",
       "11089                          MANA TECH LLC  SOFTWARE DEVELOPER     100,000   \n",
       "4560                    CITADEL AMERICAS LLC   SOFTWARE ENGINEER     145,000   \n",
       "10558                    VYZER SOLUTIONS INC  SOFTWARE DEVELOPER      94,000   \n",
       "9632            COMPUNNEL SOFTWARE GROUP INC  SOFTWARE DEVELOPER      72,015   \n",
       "282                      CULINARY AGENTS INC   SOFTWARE ENGINEER      70,221   \n",
       "\n",
       "           Location Submit Date  Start Date Case Status  \n",
       "12086    EDISON, NJ  03/15/2016  09/14/2016   CERTIFIED  \n",
       "626    NEW YORK, NY  02/20/2015  08/17/2015   CERTIFIED  \n",
       "9230   NEW YORK, NY  03/09/2016  08/01/2016   CERTIFIED  \n",
       "4719   NEW YORK, NY  03/05/2019  03/18/2019   CERTIFIED  \n",
       "14787   CHICAGO, IL  03/08/2019  09/07/2019   CERTIFIED  \n",
       "11089  NEW YORK, NY  03/13/2018  08/31/2018   CERTIFIED  \n",
       "4560   NEW YORK, NY  08/22/2019  09/02/2019   CERTIFIED  \n",
       "10558  NEW YORK, NY  02/22/2018  08/20/2018   CERTIFIED  \n",
       "9632   NEW YORK, NY  09/04/2015  09/14/2015   CERTIFIED  \n",
       "282    NEW YORK, NY  03/11/2017  08/01/2017   CERTIFIED  "
      ]
     },
     "execution_count": 36,
     "metadata": {},
     "output_type": "execute_result"
    }
   ],
   "source": [
    "h1b_data.sample(n=10)"
   ]
  },
  {
   "cell_type": "markdown",
   "metadata": {},
   "source": [
    "# Distribution by Job Title"
   ]
  },
  {
   "cell_type": "code",
   "execution_count": 37,
   "metadata": {},
   "outputs": [],
   "source": [
    "job_title = h1b_data.groupby('Job Title').count()"
   ]
  },
  {
   "cell_type": "code",
   "execution_count": 38,
   "metadata": {},
   "outputs": [
    {
     "data": {
      "text/plain": [
       "<matplotlib.axes._subplots.AxesSubplot at 0x7f89d8041c88>"
      ]
     },
     "execution_count": 38,
     "metadata": {},
     "output_type": "execute_result"
    }
   ],
   "source": [
    "job_title.plot()"
   ]
  },
  {
   "cell_type": "code",
   "execution_count": 43,
   "metadata": {},
   "outputs": [
    {
     "data": {
      "text/plain": [
       "<matplotlib.axes._subplots.AxesSubplot at 0x7f89d79b7b70>"
      ]
     },
     "execution_count": 43,
     "metadata": {},
     "output_type": "execute_result"
    },
    {
     "data": {
      "image/png": "[encoded data removed]",
      "text/plain": [
       "<Figure size 432x288 with 1 Axes>"
      ]
     },
     "metadata": {
      "needs_background": "light"
     },
     "output_type": "display_data"
    }
   ],
   "source": [
    "job_title.plot()"
   ]
  },
  {
   "cell_type": "code",
   "execution_count": null,
   "metadata": {},
   "outputs": [],
   "source": []
  }
 ],
 "metadata": {
  "kernelspec": {
   "display_name": "Python 3",
   "language": "python",
   "name": "python3"
  },
  "language_info": {
   "codemirror_mode": {
    "name": "ipython",
    "version": 3
   },
   "file_extension": ".py",
   "mimetype": "text/x-python",
   "name": "python",
   "nbconvert_exporter": "python",
   "pygments_lexer": "ipython3",
   "version": "3.6.8"
  }
 },
 "nbformat": 4,
 "nbformat_minor": 2
}
