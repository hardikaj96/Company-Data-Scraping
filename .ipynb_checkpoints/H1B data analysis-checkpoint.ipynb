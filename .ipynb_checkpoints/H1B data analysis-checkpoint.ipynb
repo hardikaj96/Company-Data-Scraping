{
 "cells": [
  {
   "cell_type": "code",
   "execution_count": 1,
   "metadata": {},
   "outputs": [],
   "source": [
    "from __future__ import unicode_literals\n",
    "from bs4 import BeautifulSoup\n",
    "from contextlib import closing\n",
    "from requests import get\n",
    "from requests.exceptions import RequestException\n",
    "import csv\n",
    "import html5lib\n",
    "import logging\n",
    "import os\n",
    "import pandas as pd\n",
    "import re\n",
    "import sys\n",
    "import time"
   ]
  },
  {
   "cell_type": "code",
   "execution_count": 19,
   "metadata": {},
   "outputs": [],
   "source": [
    "def get_html(url):\n",
    "    \"\"\"This function makes a GET Request to the url specified.\n",
    "    This gets the raw HTML content if there is a good response.\n",
    "    \"\"\"\n",
    "    resp = get(url, stream=True)\n",
    "    if resp.status_code == 200:\n",
    "        return resp.content\n",
    "    else:\n",
    "        return None"
   ]
  },
  {
   "cell_type": "code",
   "execution_count": 20,
   "metadata": {},
   "outputs": [],
   "source": [
    "def get_data(parsed_data_html):\n",
    "    \n",
    "    # Convert html data into beautifulSoup format using html parser\n",
    "    parsed_data_bs = BeautifulSoup(parsed_data_html, \"html.parser\")\n",
    "\n",
    "    # Search for table with id = 'myTable' and extract each row of data\n",
    "    parsed_data_table = parsed_data_bs.find('table', {'id': 'myTable'})\n",
    "    parsed_data_table = parsed_data_table.find('tbody')\n",
    "    records = parsed_data_table.findAll('tr')\n",
    "    extracted_record = []\n",
    "    for record in records:\n",
    "        elements = record.findAll('td')\n",
    "        row_data = []\n",
    "        for element in elements:\n",
    "            row_data.append(element.text)\n",
    "        extracted_record.append(row_data)\n",
    "    return extracted_record"
   ]
  },
  {
   "cell_type": "code",
   "execution_count": 21,
   "metadata": {},
   "outputs": [],
   "source": [
    "posts = [\n",
    "    'Software Engineer',\n",
    "    'Software Developer',\n",
    "    'Python Developer',\n",
    "    'Data Scientist',\n",
    "    'Machine Learning Engineer'\n",
    "]"
   ]
  },
  {
   "cell_type": "code",
   "execution_count": 22,
   "metadata": {},
   "outputs": [],
   "source": [
    "locations = [\n",
    "    'New York',\n",
    "    'Edison',\n",
    "    'Jersey City',\n",
    "    'Chicago',\n",
    "    'Brooklyn'\n",
    "]"
   ]
  },
  {
   "cell_type": "code",
   "execution_count": 23,
   "metadata": {},
   "outputs": [],
   "source": [
    "def get_records(posts, locations):\n",
    "    data = []\n",
    "    for post in posts:\n",
    "        for location in locations:\n",
    "            url = 'https://h1bdata.info/index.php?em=&job='\n",
    "            url += post\n",
    "            url += '&city=' + location\n",
    "            url += '&year=All+Years'\n",
    "            parsed_data_html = get_html(url)\n",
    "            records = get_data(parsed_data_html)\n",
    "            data.extend(records)\n",
    "    return data"
   ]
  },
  {
   "cell_type": "code",
   "execution_count": 24,
   "metadata": {},
   "outputs": [],
   "source": [
    "data = get_records(posts, locations)"
   ]
  },
  {
   "cell_type": "code",
   "execution_count": 26,
   "metadata": {},
   "outputs": [
    {
     "data": {
      "text/plain": [
       "16996"
      ]
     },
     "execution_count": 26,
     "metadata": {},
     "output_type": "execute_result"
    }
   ],
   "source": [
    "len(data)"
   ]
  },
  {
   "cell_type": "code",
   "execution_count": 27,
   "metadata": {},
   "outputs": [],
   "source": [
    "df = pd.DataFrame(data)"
   ]
  },
  {
   "cell_type": "code",
   "execution_count": 30,
   "metadata": {},
   "outputs": [],
   "source": [
    "df.columns = ['Employer', 'Job Title', 'Base Salary', 'Location', 'Submit Date', 'Start Date', 'Case Status']"
   ]
  },
  {
   "cell_type": "code",
   "execution_count": 32,
   "metadata": {},
   "outputs": [
    {
     "data": {
      "text/html": [
       "<div>\n",
       "<style scoped>\n",
       "    .dataframe tbody tr th:only-of-type {\n",
       "        vertical-align: middle;\n",
       "    }\n",
       "\n",
       "    .dataframe tbody tr th {\n",
       "        vertical-align: top;\n",
       "    }\n",
       "\n",
       "    .dataframe thead th {\n",
       "        text-align: right;\n",
       "    }\n",
       "</style>\n",
       "<table border=\"1\" class=\"dataframe\">\n",
       "  <thead>\n",
       "    <tr style=\"text-align: right;\">\n",
       "      <th></th>\n",
       "      <th>Employer</th>\n",
       "      <th>Job Title</th>\n",
       "      <th>Base Salary</th>\n",
       "      <th>Location</th>\n",
       "      <th>Submit Date</th>\n",
       "      <th>Start Date</th>\n",
       "      <th>Case Status</th>\n",
       "    </tr>\n",
       "  </thead>\n",
       "  <tbody>\n",
       "    <tr>\n",
       "      <th>6184</th>\n",
       "      <td>TECHDEMOCRACY LLC</td>\n",
       "      <td>SOFTWARE ENGINEER</td>\n",
       "      <td>115,000</td>\n",
       "      <td>EDISON, NJ</td>\n",
       "      <td>06/13/2018</td>\n",
       "      <td>06/27/2018</td>\n",
       "      <td>CERTIFIED</td>\n",
       "    </tr>\n",
       "    <tr>\n",
       "      <th>644</th>\n",
       "      <td>NOUS INFOSYSTEM PVT LTD</td>\n",
       "      <td>SOFTWARE ENGINEER</td>\n",
       "      <td>73,445</td>\n",
       "      <td>NEW YORK, NY</td>\n",
       "      <td>05/29/2015</td>\n",
       "      <td>10/01/2015</td>\n",
       "      <td>CERTIFIED</td>\n",
       "    </tr>\n",
       "    <tr>\n",
       "      <th>9398</th>\n",
       "      <td>COLLABERA INC</td>\n",
       "      <td>SOFTWARE DEVELOPER</td>\n",
       "      <td>142,000</td>\n",
       "      <td>NEW YORK, NY</td>\n",
       "      <td>09/11/2018</td>\n",
       "      <td>09/24/2018</td>\n",
       "      <td>CERTIFIED</td>\n",
       "    </tr>\n",
       "    <tr>\n",
       "      <th>481</th>\n",
       "      <td>RCRDCLUB CORPORATION</td>\n",
       "      <td>SOFTWARE ENGINEER</td>\n",
       "      <td>72,010</td>\n",
       "      <td>NEW YORK, NY</td>\n",
       "      <td>03/26/2016</td>\n",
       "      <td>09/16/2016</td>\n",
       "      <td>CERTIFIED</td>\n",
       "    </tr>\n",
       "    <tr>\n",
       "      <th>13108</th>\n",
       "      <td>SQA CONCEPTS INC</td>\n",
       "      <td>SOFTWARE DEVELOPER</td>\n",
       "      <td>97,000</td>\n",
       "      <td>EDISON, NJ</td>\n",
       "      <td>03/28/2019</td>\n",
       "      <td>09/16/2019</td>\n",
       "      <td>CERTIFIED</td>\n",
       "    </tr>\n",
       "    <tr>\n",
       "      <th>156</th>\n",
       "      <td>VEDAMSOFT INC</td>\n",
       "      <td>SOFTWARE ENGINEER</td>\n",
       "      <td>58,000</td>\n",
       "      <td>NEW YORK, NY</td>\n",
       "      <td>02/11/2015</td>\n",
       "      <td>02/16/2015</td>\n",
       "      <td>DENIED</td>\n",
       "    </tr>\n",
       "    <tr>\n",
       "      <th>8922</th>\n",
       "      <td>CITADEL LLC</td>\n",
       "      <td>SOFTWARE ENGINEER</td>\n",
       "      <td>135,000</td>\n",
       "      <td>CHICAGO, IL</td>\n",
       "      <td>03/01/2016</td>\n",
       "      <td>08/24/2016</td>\n",
       "      <td>CERTIFIED</td>\n",
       "    </tr>\n",
       "    <tr>\n",
       "      <th>15931</th>\n",
       "      <td>VENTOIS INC</td>\n",
       "      <td>PYTHON DEVELOPER</td>\n",
       "      <td>92,768</td>\n",
       "      <td>NEW YORK, NY</td>\n",
       "      <td>04/05/2018</td>\n",
       "      <td>04/05/2018</td>\n",
       "      <td>CERTIFIED</td>\n",
       "    </tr>\n",
       "    <tr>\n",
       "      <th>15063</th>\n",
       "      <td>TECHZIO SOLUTIONS LLC</td>\n",
       "      <td>SOFTWARE DEVELOPER</td>\n",
       "      <td>82,000</td>\n",
       "      <td>CHICAGO, IL</td>\n",
       "      <td>12/08/2018</td>\n",
       "      <td>01/01/2019</td>\n",
       "      <td>CERTIFIED</td>\n",
       "    </tr>\n",
       "    <tr>\n",
       "      <th>7720</th>\n",
       "      <td>TOCA LLC</td>\n",
       "      <td>SOFTWARE ENGINEER</td>\n",
       "      <td>71,802</td>\n",
       "      <td>CHICAGO, IL</td>\n",
       "      <td>03/06/2015</td>\n",
       "      <td>09/04/2015</td>\n",
       "      <td>CERTIFIED</td>\n",
       "    </tr>\n",
       "  </tbody>\n",
       "</table>\n",
       "</div>"
      ],
      "text/plain": [
       "                      Employer           Job Title Base Salary      Location  \\\n",
       "6184         TECHDEMOCRACY LLC   SOFTWARE ENGINEER     115,000    EDISON, NJ   \n",
       "644    NOUS INFOSYSTEM PVT LTD   SOFTWARE ENGINEER      73,445  NEW YORK, NY   \n",
       "9398             COLLABERA INC  SOFTWARE DEVELOPER     142,000  NEW YORK, NY   \n",
       "481       RCRDCLUB CORPORATION   SOFTWARE ENGINEER      72,010  NEW YORK, NY   \n",
       "13108         SQA CONCEPTS INC  SOFTWARE DEVELOPER      97,000    EDISON, NJ   \n",
       "156              VEDAMSOFT INC   SOFTWARE ENGINEER      58,000  NEW YORK, NY   \n",
       "8922               CITADEL LLC   SOFTWARE ENGINEER     135,000   CHICAGO, IL   \n",
       "15931              VENTOIS INC    PYTHON DEVELOPER      92,768  NEW YORK, NY   \n",
       "15063    TECHZIO SOLUTIONS LLC  SOFTWARE DEVELOPER      82,000   CHICAGO, IL   \n",
       "7720                  TOCA LLC   SOFTWARE ENGINEER      71,802   CHICAGO, IL   \n",
       "\n",
       "      Submit Date  Start Date Case Status  \n",
       "6184   06/13/2018  06/27/2018   CERTIFIED  \n",
       "644    05/29/2015  10/01/2015   CERTIFIED  \n",
       "9398   09/11/2018  09/24/2018   CERTIFIED  \n",
       "481    03/26/2016  09/16/2016   CERTIFIED  \n",
       "13108  03/28/2019  09/16/2019   CERTIFIED  \n",
       "156    02/11/2015  02/16/2015      DENIED  \n",
       "8922   03/01/2016  08/24/2016   CERTIFIED  \n",
       "15931  04/05/2018  04/05/2018   CERTIFIED  \n",
       "15063  12/08/2018  01/01/2019   CERTIFIED  \n",
       "7720   03/06/2015  09/04/2015   CERTIFIED  "
      ]
     },
     "execution_count": 32,
     "metadata": {},
     "output_type": "execute_result"
    }
   ],
   "source": [
    "df.sample(n=10)"
   ]
  },
  {
   "cell_type": "code",
   "execution_count": null,
   "metadata": {},
   "outputs": [],
   "source": []
  }
 ],
 "metadata": {
  "kernelspec": {
   "display_name": "Python 3",
   "language": "python",
   "name": "python3"
  },
  "language_info": {
   "codemirror_mode": {
    "name": "ipython",
    "version": 3
   },
   "file_extension": ".py",
   "mimetype": "text/x-python",
   "name": "python",
   "nbconvert_exporter": "python",
   "pygments_lexer": "ipython3",
   "version": "3.6.8"
  }
 },
 "nbformat": 4,
 "nbformat_minor": 2
}
