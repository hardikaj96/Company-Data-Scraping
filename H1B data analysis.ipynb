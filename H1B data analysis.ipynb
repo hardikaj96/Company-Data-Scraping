{
 "cells": [
  {
   "cell_type": "code",
   "execution_count": 55,
   "metadata": {},
   "outputs": [],
   "source": [
    "from __future__ import unicode_literals\n",
    "from bs4 import BeautifulSoup\n",
    "from contextlib import closing\n",
    "from requests import get\n",
    "from requests.exceptions import RequestException\n",
    "import matplotlib.pyplot as plt\n",
    "import csv\n",
    "import html5lib\n",
    "import logging\n",
    "import os\n",
    "import pandas as pd\n",
    "import re\n",
    "import sys\n",
    "import time"
   ]
  },
  {
   "cell_type": "code",
   "execution_count": 19,
   "metadata": {},
   "outputs": [],
   "source": [
    "def get_html(url):\n",
    "    \"\"\"This function makes a GET Request to the url specified.\n",
    "    This gets the raw HTML content if there is a good response.\n",
    "    \"\"\"\n",
    "    resp = get(url, stream=True)\n",
    "    if resp.status_code == 200:\n",
    "        return resp.content\n",
    "    else:\n",
    "        return None"
   ]
  },
  {
   "cell_type": "code",
   "execution_count": 20,
   "metadata": {},
   "outputs": [],
   "source": [
    "def get_data(parsed_data_html):\n",
    "    \n",
    "    # Convert html data into beautifulSoup format using html parser\n",
    "    parsed_data_bs = BeautifulSoup(parsed_data_html, \"html.parser\")\n",
    "\n",
    "    # Search for table with id = 'myTable' and extract each row of data\n",
    "    parsed_data_table = parsed_data_bs.find('table', {'id': 'myTable'})\n",
    "    parsed_data_table = parsed_data_table.find('tbody')\n",
    "    records = parsed_data_table.findAll('tr')\n",
    "    extracted_record = []\n",
    "    for record in records:\n",
    "        elements = record.findAll('td')\n",
    "        row_data = []\n",
    "        for element in elements:\n",
    "            row_data.append(element.text)\n",
    "        extracted_record.append(row_data)\n",
    "    return extracted_record"
   ]
  },
  {
   "cell_type": "code",
   "execution_count": 21,
   "metadata": {},
   "outputs": [],
   "source": [
    "posts = [\n",
    "    'Software Engineer',\n",
    "    'Software Developer',\n",
    "    'Python Developer',\n",
    "    'Data Scientist',\n",
    "    'Machine Learning Engineer'\n",
    "]"
   ]
  },
  {
   "cell_type": "code",
   "execution_count": 22,
   "metadata": {},
   "outputs": [],
   "source": [
    "locations = [\n",
    "    'New York',\n",
    "    'Edison',\n",
    "    'Jersey City',\n",
    "    'Chicago',\n",
    "    'Brooklyn'\n",
    "]"
   ]
  },
  {
   "cell_type": "code",
   "execution_count": 23,
   "metadata": {},
   "outputs": [],
   "source": [
    "def get_records(posts, locations):\n",
    "    data = []\n",
    "    for post in posts:\n",
    "        for location in locations:\n",
    "            url = 'https://h1bdata.info/index.php?em=&job='\n",
    "            url += post\n",
    "            url += '&city=' + location\n",
    "            url += '&year=All+Years'\n",
    "            parsed_data_html = get_html(url)\n",
    "            records = get_data(parsed_data_html)\n",
    "            data.extend(records)\n",
    "    return data"
   ]
  },
  {
   "cell_type": "code",
   "execution_count": 24,
   "metadata": {},
   "outputs": [],
   "source": [
    "data = get_records(posts, locations)"
   ]
  },
  {
   "cell_type": "code",
   "execution_count": 26,
   "metadata": {},
   "outputs": [
    {
     "data": {
      "text/plain": [
       "16996"
      ]
     },
     "execution_count": 26,
     "metadata": {},
     "output_type": "execute_result"
    }
   ],
   "source": [
    "len(data)"
   ]
  },
  {
   "cell_type": "code",
   "execution_count": 33,
   "metadata": {},
   "outputs": [],
   "source": [
    "h1b_data = pd.DataFrame(data)"
   ]
  },
  {
   "cell_type": "code",
   "execution_count": 62,
   "metadata": {},
   "outputs": [],
   "source": [
    "h1b_data.columns = ['employer', 'job_title', 'base_salary', 'location', 'submit_date', 'start_date', 'case_status']"
   ]
  },
  {
   "cell_type": "code",
   "execution_count": 63,
   "metadata": {},
   "outputs": [
    {
     "data": {
      "text/html": [
       "<div>\n",
       "<style scoped>\n",
       "    .dataframe tbody tr th:only-of-type {\n",
       "        vertical-align: middle;\n",
       "    }\n",
       "\n",
       "    .dataframe tbody tr th {\n",
       "        vertical-align: top;\n",
       "    }\n",
       "\n",
       "    .dataframe thead th {\n",
       "        text-align: right;\n",
       "    }\n",
       "</style>\n",
       "<table border=\"1\" class=\"dataframe\">\n",
       "  <thead>\n",
       "    <tr style=\"text-align: right;\">\n",
       "      <th></th>\n",
       "      <th>employer</th>\n",
       "      <th>job_title</th>\n",
       "      <th>base_salary</th>\n",
       "      <th>location</th>\n",
       "      <th>submit_date</th>\n",
       "      <th>start_date</th>\n",
       "      <th>case_status</th>\n",
       "    </tr>\n",
       "  </thead>\n",
       "  <tbody>\n",
       "    <tr>\n",
       "      <th>13184</th>\n",
       "      <td>FUSAR TECHNOLOGIES INC</td>\n",
       "      <td>SOFTWARE DEVELOPER</td>\n",
       "      <td>70,000</td>\n",
       "      <td>JERSEY CITY, NJ</td>\n",
       "      <td>03/24/2016</td>\n",
       "      <td>09/01/2016</td>\n",
       "      <td>CERTIFIED</td>\n",
       "    </tr>\n",
       "    <tr>\n",
       "      <th>6269</th>\n",
       "      <td>ANA-DATA CONSULTING INC</td>\n",
       "      <td>SOFTWARE ENGINEER</td>\n",
       "      <td>112,520</td>\n",
       "      <td>JERSEY CITY, NJ</td>\n",
       "      <td>08/15/2019</td>\n",
       "      <td>01/01/2020</td>\n",
       "      <td>CERTIFIED</td>\n",
       "    </tr>\n",
       "    <tr>\n",
       "      <th>15815</th>\n",
       "      <td>LAST EMPIRE INC</td>\n",
       "      <td>SOFTWARE DEVELOPER</td>\n",
       "      <td>92,768</td>\n",
       "      <td>BROOKLYN, NY</td>\n",
       "      <td>03/20/2018</td>\n",
       "      <td>09/18/2018</td>\n",
       "      <td>CERTIFIED</td>\n",
       "    </tr>\n",
       "    <tr>\n",
       "      <th>10190</th>\n",
       "      <td>SVAM INTERNATIONAL INC</td>\n",
       "      <td>SOFTWARE DEVELOPER</td>\n",
       "      <td>92,768</td>\n",
       "      <td>NEW YORK, NY</td>\n",
       "      <td>02/07/2018</td>\n",
       "      <td>06/06/2018</td>\n",
       "      <td>CERTIFIED</td>\n",
       "    </tr>\n",
       "    <tr>\n",
       "      <th>3195</th>\n",
       "      <td>HC OPERATIONS LLC</td>\n",
       "      <td>SOFTWARE ENGINEER</td>\n",
       "      <td>120,000</td>\n",
       "      <td>NEW YORK, NY</td>\n",
       "      <td>03/14/2019</td>\n",
       "      <td>08/31/2019</td>\n",
       "      <td>CERTIFIED</td>\n",
       "    </tr>\n",
       "    <tr>\n",
       "      <th>15231</th>\n",
       "      <td>GOMIAPP LLC</td>\n",
       "      <td>SOFTWARE DEVELOPER</td>\n",
       "      <td>84,000</td>\n",
       "      <td>CHICAGO, IL</td>\n",
       "      <td>10/26/2017</td>\n",
       "      <td>10/26/2017</td>\n",
       "      <td>CERTIFIED</td>\n",
       "    </tr>\n",
       "    <tr>\n",
       "      <th>8031</th>\n",
       "      <td>SERVICENOW INC</td>\n",
       "      <td>SOFTWARE ENGINEER</td>\n",
       "      <td>80,912</td>\n",
       "      <td>CHICAGO, IL</td>\n",
       "      <td>05/03/2019</td>\n",
       "      <td>05/08/2019</td>\n",
       "      <td>CERTIFIED</td>\n",
       "    </tr>\n",
       "    <tr>\n",
       "      <th>1416</th>\n",
       "      <td>ADAEQUARE INC</td>\n",
       "      <td>SOFTWARE ENGINEER</td>\n",
       "      <td>91,562</td>\n",
       "      <td>NEW YORK, NY</td>\n",
       "      <td>09/16/2015</td>\n",
       "      <td>09/16/2015</td>\n",
       "      <td>CERTIFIED</td>\n",
       "    </tr>\n",
       "    <tr>\n",
       "      <th>10535</th>\n",
       "      <td>TECHNO-COMP INC</td>\n",
       "      <td>SOFTWARE DEVELOPER</td>\n",
       "      <td>93,000</td>\n",
       "      <td>NEW YORK, NY</td>\n",
       "      <td>08/15/2017</td>\n",
       "      <td>08/23/2017</td>\n",
       "      <td>CERTIFIED</td>\n",
       "    </tr>\n",
       "    <tr>\n",
       "      <th>7243</th>\n",
       "      <td>MPHASIS CORPORATION</td>\n",
       "      <td>SOFTWARE ENGINEER</td>\n",
       "      <td>60,000</td>\n",
       "      <td>CHICAGO, IL</td>\n",
       "      <td>03/07/2018</td>\n",
       "      <td>08/01/2018</td>\n",
       "      <td>CERTIFIED</td>\n",
       "    </tr>\n",
       "  </tbody>\n",
       "</table>\n",
       "</div>"
      ],
      "text/plain": [
       "                      employer           job_title base_salary  \\\n",
       "13184   FUSAR TECHNOLOGIES INC  SOFTWARE DEVELOPER      70,000   \n",
       "6269   ANA-DATA CONSULTING INC   SOFTWARE ENGINEER     112,520   \n",
       "15815          LAST EMPIRE INC  SOFTWARE DEVELOPER      92,768   \n",
       "10190   SVAM INTERNATIONAL INC  SOFTWARE DEVELOPER      92,768   \n",
       "3195         HC OPERATIONS LLC   SOFTWARE ENGINEER     120,000   \n",
       "15231              GOMIAPP LLC  SOFTWARE DEVELOPER      84,000   \n",
       "8031            SERVICENOW INC   SOFTWARE ENGINEER      80,912   \n",
       "1416             ADAEQUARE INC   SOFTWARE ENGINEER      91,562   \n",
       "10535          TECHNO-COMP INC  SOFTWARE DEVELOPER      93,000   \n",
       "7243       MPHASIS CORPORATION   SOFTWARE ENGINEER      60,000   \n",
       "\n",
       "              location submit_date  start_date case_status  \n",
       "13184  JERSEY CITY, NJ  03/24/2016  09/01/2016   CERTIFIED  \n",
       "6269   JERSEY CITY, NJ  08/15/2019  01/01/2020   CERTIFIED  \n",
       "15815     BROOKLYN, NY  03/20/2018  09/18/2018   CERTIFIED  \n",
       "10190     NEW YORK, NY  02/07/2018  06/06/2018   CERTIFIED  \n",
       "3195      NEW YORK, NY  03/14/2019  08/31/2019   CERTIFIED  \n",
       "15231      CHICAGO, IL  10/26/2017  10/26/2017   CERTIFIED  \n",
       "8031       CHICAGO, IL  05/03/2019  05/08/2019   CERTIFIED  \n",
       "1416      NEW YORK, NY  09/16/2015  09/16/2015   CERTIFIED  \n",
       "10535     NEW YORK, NY  08/15/2017  08/23/2017   CERTIFIED  \n",
       "7243       CHICAGO, IL  03/07/2018  08/01/2018   CERTIFIED  "
      ]
     },
     "execution_count": 63,
     "metadata": {},
     "output_type": "execute_result"
    }
   ],
   "source": [
    "h1b_data.sample(n=10)"
   ]
  },
  {
   "cell_type": "markdown",
   "metadata": {},
   "source": [
    "# Distribution by Job Title"
   ]
  },
  {
   "cell_type": "code",
   "execution_count": 64,
   "metadata": {},
   "outputs": [],
   "source": [
    "job_title = h1b_data.job_title.value_counts()"
   ]
  },
  {
   "cell_type": "code",
   "execution_count": 65,
   "metadata": {},
   "outputs": [
    {
     "data": {
      "image/png": "[encoded data removed]",
      "text/plain": [
       "<Figure size 432x288 with 1 Axes>"
      ]
     },
     "metadata": {
      "needs_background": "light"
     },
     "output_type": "display_data"
    }
   ],
   "source": [
    "job_title.plot.bar(legend=True)\n",
    "plt.title('Distribution of Job_title')\n",
    "plt.xlabel('Job_title')\n",
    "plt.ylabel('Total Count')\n",
    "plt.xticks(rotation=45)\n",
    "plt.show()"
   ]
  },
  {
   "cell_type": "markdown",
   "metadata": {},
   "source": [
    "# Distribution by Location"
   ]
  },
  {
   "cell_type": "code",
   "execution_count": 68,
   "metadata": {},
   "outputs": [],
   "source": [
    "locations = h1b_data.location.value_counts().head()"
   ]
  },
  {
   "cell_type": "code",
   "execution_count": 69,
   "metadata": {},
   "outputs": [
    {
     "data": {
      "image/png": "[encoded data removed]",
      "text/plain": [
       "<Figure size 432x288 with 1 Axes>"
      ]
     },
     "metadata": {
      "needs_background": "light"
     },
     "output_type": "display_data"
    }
   ],
   "source": [
    "locations.plot.bar(legend=True)\n",
    "plt.title('Distribution of Locations')\n",
    "plt.xlabel('Location')\n",
    "plt.ylabel('Total Count')\n",
    "plt.xticks(rotation=45)\n",
    "plt.show()"
   ]
  },
  {
   "cell_type": "code",
   "execution_count": null,
   "metadata": {},
   "outputs": [],
   "source": []
  }
 ],
 "metadata": {
  "kernelspec": {
   "display_name": "Python 3",
   "language": "python",
   "name": "python3"
  },
  "language_info": {
   "codemirror_mode": {
    "name": "ipython",
    "version": 3
   },
   "file_extension": ".py",
   "mimetype": "text/x-python",
   "name": "python",
   "nbconvert_exporter": "python",
   "pygments_lexer": "ipython3",
   "version": "3.6.8"
  }
 },
 "nbformat": 4,
 "nbformat_minor": 2
}
